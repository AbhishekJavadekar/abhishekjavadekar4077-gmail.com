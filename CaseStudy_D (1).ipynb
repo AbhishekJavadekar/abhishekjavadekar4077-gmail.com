{
  "nbformat": 4,
  "nbformat_minor": 0,
  "metadata": {
    "colab": {
      "name": "CaseStudy-D.ipynb",
      "provenance": [],
      "collapsed_sections": []
    },
    "kernelspec": {
      "name": "python3",
      "display_name": "Python 3"
    },
    "widgets": {
      "application/vnd.jupyter.widget-state+json": {
        "f3238ba894144b4690f7d1e50291d6b3": {
          "model_module": "@jupyter-widgets/controls",
          "model_name": "HBoxModel",
          "state": {
            "_view_name": "HBoxView",
            "_dom_classes": [],
            "_model_name": "HBoxModel",
            "_view_module": "@jupyter-widgets/controls",
            "_model_module_version": "1.5.0",
            "_view_count": null,
            "_view_module_version": "1.5.0",
            "box_style": "",
            "layout": "IPY_MODEL_ea8ab2c9ce144d7a9f0febb7871830e0",
            "_model_module": "@jupyter-widgets/controls",
            "children": [
              "IPY_MODEL_c9cea17516dc44fd9fe3416f61382cd2",
              "IPY_MODEL_48cc2a9d223848c7acb71d331bff6bf8"
            ]
          }
        },
        "ea8ab2c9ce144d7a9f0febb7871830e0": {
          "model_module": "@jupyter-widgets/base",
          "model_name": "LayoutModel",
          "state": {
            "_view_name": "LayoutView",
            "grid_template_rows": null,
            "right": null,
            "justify_content": null,
            "_view_module": "@jupyter-widgets/base",
            "overflow": null,
            "_model_module_version": "1.2.0",
            "_view_count": null,
            "flex_flow": null,
            "width": null,
            "min_width": null,
            "border": null,
            "align_items": null,
            "bottom": null,
            "_model_module": "@jupyter-widgets/base",
            "top": null,
            "grid_column": null,
            "overflow_y": null,
            "overflow_x": null,
            "grid_auto_flow": null,
            "grid_area": null,
            "grid_template_columns": null,
            "flex": null,
            "_model_name": "LayoutModel",
            "justify_items": null,
            "grid_row": null,
            "max_height": null,
            "align_content": null,
            "visibility": null,
            "align_self": null,
            "height": null,
            "min_height": null,
            "padding": null,
            "grid_auto_rows": null,
            "grid_gap": null,
            "max_width": null,
            "order": null,
            "_view_module_version": "1.2.0",
            "grid_template_areas": null,
            "object_position": null,
            "object_fit": null,
            "grid_auto_columns": null,
            "margin": null,
            "display": null,
            "left": null
          }
        },
        "c9cea17516dc44fd9fe3416f61382cd2": {
          "model_module": "@jupyter-widgets/controls",
          "model_name": "IntProgressModel",
          "state": {
            "_view_name": "ProgressView",
            "style": "IPY_MODEL_2210bc210e9848f9b2ba29ba2f3828aa",
            "_dom_classes": [],
            "description": "Optimization Progress:  93%",
            "_model_name": "IntProgressModel",
            "bar_style": "danger",
            "max": 100,
            "_view_module": "@jupyter-widgets/controls",
            "_model_module_version": "1.5.0",
            "value": 100,
            "_view_count": null,
            "_view_module_version": "1.5.0",
            "orientation": "horizontal",
            "min": 0,
            "description_tooltip": null,
            "_model_module": "@jupyter-widgets/controls",
            "layout": "IPY_MODEL_ae977b46292149b89ddd08eefa7fad36"
          }
        },
        "48cc2a9d223848c7acb71d331bff6bf8": {
          "model_module": "@jupyter-widgets/controls",
          "model_name": "HTMLModel",
          "state": {
            "_view_name": "HTMLView",
            "style": "IPY_MODEL_d6ae21a93ca943f1862d0633cb6e253c",
            "_dom_classes": [],
            "description": "",
            "_model_name": "HTMLModel",
            "placeholder": "​",
            "_view_module": "@jupyter-widgets/controls",
            "_model_module_version": "1.5.0",
            "value": " 1301/1400 [09:59&lt;03:44,  2.27s/pipeline]",
            "_view_count": null,
            "_view_module_version": "1.5.0",
            "description_tooltip": null,
            "_model_module": "@jupyter-widgets/controls",
            "layout": "IPY_MODEL_98dcb289d3cb42b297f57d4eec770245"
          }
        },
        "2210bc210e9848f9b2ba29ba2f3828aa": {
          "model_module": "@jupyter-widgets/controls",
          "model_name": "ProgressStyleModel",
          "state": {
            "_view_name": "StyleView",
            "_model_name": "ProgressStyleModel",
            "description_width": "initial",
            "_view_module": "@jupyter-widgets/base",
            "_model_module_version": "1.5.0",
            "_view_count": null,
            "_view_module_version": "1.2.0",
            "bar_color": null,
            "_model_module": "@jupyter-widgets/controls"
          }
        },
        "ae977b46292149b89ddd08eefa7fad36": {
          "model_module": "@jupyter-widgets/base",
          "model_name": "LayoutModel",
          "state": {
            "_view_name": "LayoutView",
            "grid_template_rows": null,
            "right": null,
            "justify_content": null,
            "_view_module": "@jupyter-widgets/base",
            "overflow": null,
            "_model_module_version": "1.2.0",
            "_view_count": null,
            "flex_flow": null,
            "width": null,
            "min_width": null,
            "border": null,
            "align_items": null,
            "bottom": null,
            "_model_module": "@jupyter-widgets/base",
            "top": null,
            "grid_column": null,
            "overflow_y": null,
            "overflow_x": null,
            "grid_auto_flow": null,
            "grid_area": null,
            "grid_template_columns": null,
            "flex": null,
            "_model_name": "LayoutModel",
            "justify_items": null,
            "grid_row": null,
            "max_height": null,
            "align_content": null,
            "visibility": null,
            "align_self": null,
            "height": null,
            "min_height": null,
            "padding": null,
            "grid_auto_rows": null,
            "grid_gap": null,
            "max_width": null,
            "order": null,
            "_view_module_version": "1.2.0",
            "grid_template_areas": null,
            "object_position": null,
            "object_fit": null,
            "grid_auto_columns": null,
            "margin": null,
            "display": null,
            "left": null
          }
        },
        "d6ae21a93ca943f1862d0633cb6e253c": {
          "model_module": "@jupyter-widgets/controls",
          "model_name": "DescriptionStyleModel",
          "state": {
            "_view_name": "StyleView",
            "_model_name": "DescriptionStyleModel",
            "description_width": "",
            "_view_module": "@jupyter-widgets/base",
            "_model_module_version": "1.5.0",
            "_view_count": null,
            "_view_module_version": "1.2.0",
            "_model_module": "@jupyter-widgets/controls"
          }
        },
        "98dcb289d3cb42b297f57d4eec770245": {
          "model_module": "@jupyter-widgets/base",
          "model_name": "LayoutModel",
          "state": {
            "_view_name": "LayoutView",
            "grid_template_rows": null,
            "right": null,
            "justify_content": null,
            "_view_module": "@jupyter-widgets/base",
            "overflow": null,
            "_model_module_version": "1.2.0",
            "_view_count": null,
            "flex_flow": null,
            "width": null,
            "min_width": null,
            "border": null,
            "align_items": null,
            "bottom": null,
            "_model_module": "@jupyter-widgets/base",
            "top": null,
            "grid_column": null,
            "overflow_y": null,
            "overflow_x": null,
            "grid_auto_flow": null,
            "grid_area": null,
            "grid_template_columns": null,
            "flex": null,
            "_model_name": "LayoutModel",
            "justify_items": null,
            "grid_row": null,
            "max_height": null,
            "align_content": null,
            "visibility": null,
            "align_self": null,
            "height": null,
            "min_height": null,
            "padding": null,
            "grid_auto_rows": null,
            "grid_gap": null,
            "max_width": null,
            "order": null,
            "_view_module_version": "1.2.0",
            "grid_template_areas": null,
            "object_position": null,
            "object_fit": null,
            "grid_auto_columns": null,
            "margin": null,
            "display": null,
            "left": null
          }
        }
      }
    }
  },
  "cells": [
    {
      "cell_type": "code",
      "metadata": {
        "id": "nSsEtBHIUhdO",
        "colab_type": "code",
        "colab": {}
      },
      "source": [
        "import pandas as pd\n",
        "import numpy as np\n",
        "import seaborn as sns\n",
        "import matplotlib.pyplot as plt\n",
        "%matplotlib inline\n",
        "from sklearn.neighbors import KNeighborsClassifier"
      ],
      "execution_count": 0,
      "outputs": []
    },
    {
      "cell_type": "code",
      "metadata": {
        "id": "XOHGc5OA-41B",
        "colab_type": "code",
        "colab": {}
      },
      "source": [
        "from sklearn.preprocessing import StandardScaler\n",
        "from sklearn.decomposition import PCA\n",
        "from sklearn.pipeline import Pipeline\n",
        "from sklearn.externals import joblib\n",
        "from sklearn.linear_model import LogisticRegression\n",
        "from sklearn.tree import DecisionTreeClassifier\n",
        "from sklearn.ensemble import RandomForestClassifier\n",
        "from sklearn.preprocessing import LabelEncoder\n",
        "from sklearn.model_selection import train_test_split\n",
        "from sklearn.metrics import accuracy_score,precision_score,recall_score,confusion_matrix,precision_recall_curve\n",
        "import numpy as np\n",
        "import pandas as pd\n",
        "import xgboost\n",
        "from sklearn.model_selection import RandomizedSearchCV\n"
      ],
      "execution_count": 0,
      "outputs": []
    },
    {
      "cell_type": "code",
      "metadata": {
        "id": "Ey-zl3yuVFpb",
        "colab_type": "code",
        "colab": {}
      },
      "source": [
        "df = pd.read_csv(\"/content/Case_D_Pharma_Food_Data.csv\")"
      ],
      "execution_count": 0,
      "outputs": []
    },
    {
      "cell_type": "code",
      "metadata": {
        "id": "pmK1raONVLzY",
        "colab_type": "code",
        "outputId": "1224f7a2-27fa-457d-eac3-02e719b66c67",
        "colab": {
          "base_uri": "https://localhost:8080/",
          "height": 204
        }
      },
      "source": [
        "df.head()"
      ],
      "execution_count": 0,
      "outputs": [
        {
          "output_type": "execute_result",
          "data": {
            "text/html": [
              "<div>\n",
              "<style scoped>\n",
              "    .dataframe tbody tr th:only-of-type {\n",
              "        vertical-align: middle;\n",
              "    }\n",
              "\n",
              "    .dataframe tbody tr th {\n",
              "        vertical-align: top;\n",
              "    }\n",
              "\n",
              "    .dataframe thead th {\n",
              "        text-align: right;\n",
              "    }\n",
              "</style>\n",
              "<table border=\"1\" class=\"dataframe\">\n",
              "  <thead>\n",
              "    <tr style=\"text-align: right;\">\n",
              "      <th></th>\n",
              "      <th>A</th>\n",
              "      <th>B</th>\n",
              "      <th>C</th>\n",
              "      <th>D</th>\n",
              "      <th>Spoiled</th>\n",
              "    </tr>\n",
              "  </thead>\n",
              "  <tbody>\n",
              "    <tr>\n",
              "      <th>0</th>\n",
              "      <td>4</td>\n",
              "      <td>2</td>\n",
              "      <td>12</td>\n",
              "      <td>3</td>\n",
              "      <td>1</td>\n",
              "    </tr>\n",
              "    <tr>\n",
              "      <th>1</th>\n",
              "      <td>5</td>\n",
              "      <td>6</td>\n",
              "      <td>12</td>\n",
              "      <td>7</td>\n",
              "      <td>1</td>\n",
              "    </tr>\n",
              "    <tr>\n",
              "      <th>2</th>\n",
              "      <td>6</td>\n",
              "      <td>2</td>\n",
              "      <td>13</td>\n",
              "      <td>6</td>\n",
              "      <td>1</td>\n",
              "    </tr>\n",
              "    <tr>\n",
              "      <th>3</th>\n",
              "      <td>4</td>\n",
              "      <td>2</td>\n",
              "      <td>12</td>\n",
              "      <td>1</td>\n",
              "      <td>1</td>\n",
              "    </tr>\n",
              "    <tr>\n",
              "      <th>4</th>\n",
              "      <td>4</td>\n",
              "      <td>2</td>\n",
              "      <td>12</td>\n",
              "      <td>3</td>\n",
              "      <td>1</td>\n",
              "    </tr>\n",
              "  </tbody>\n",
              "</table>\n",
              "</div>"
            ],
            "text/plain": [
              "   A  B   C  D  Spoiled\n",
              "0  4  2  12  3        1\n",
              "1  5  6  12  7        1\n",
              "2  6  2  13  6        1\n",
              "3  4  2  12  1        1\n",
              "4  4  2  12  3        1"
            ]
          },
          "metadata": {
            "tags": []
          },
          "execution_count": 78
        }
      ]
    },
    {
      "cell_type": "code",
      "metadata": {
        "id": "mu5MzYXB59Yz",
        "colab_type": "code",
        "outputId": "bac4ef85-ac42-4f50-944c-7f05fb8960b8",
        "colab": {
          "base_uri": "https://localhost:8080/",
          "height": 34
        }
      },
      "source": [
        "df.shape"
      ],
      "execution_count": 0,
      "outputs": [
        {
          "output_type": "execute_result",
          "data": {
            "text/plain": [
              "(490, 5)"
            ]
          },
          "metadata": {
            "tags": []
          },
          "execution_count": 5
        }
      ]
    },
    {
      "cell_type": "code",
      "metadata": {
        "id": "wBKbw7y6VPpP",
        "colab_type": "code",
        "outputId": "f106ec84-f3dd-4f48-88d2-a2d15744529d",
        "colab": {
          "base_uri": "https://localhost:8080/",
          "height": 34
        }
      },
      "source": [
        "len(df['Spoiled'].values)"
      ],
      "execution_count": 0,
      "outputs": [
        {
          "output_type": "execute_result",
          "data": {
            "text/plain": [
              "490"
            ]
          },
          "metadata": {
            "tags": []
          },
          "execution_count": 46
        }
      ]
    },
    {
      "cell_type": "code",
      "metadata": {
        "id": "lSRRfFNT7ruA",
        "colab_type": "code",
        "outputId": "0c6ae3da-d5f9-46b7-a148-16a2e5a1bbe1",
        "colab": {
          "base_uri": "https://localhost:8080/",
          "height": 88
        }
      },
      "source": [
        "len(df['Spoiled']==\"0\")"
      ],
      "execution_count": 0,
      "outputs": [
        {
          "output_type": "stream",
          "text": [
            "/usr/local/lib/python3.6/dist-packages/pandas/core/ops/__init__.py:1115: FutureWarning: elementwise comparison failed; returning scalar instead, but in the future will perform elementwise comparison\n",
            "  result = method(y)\n"
          ],
          "name": "stderr"
        },
        {
          "output_type": "execute_result",
          "data": {
            "text/plain": [
              "490"
            ]
          },
          "metadata": {
            "tags": []
          },
          "execution_count": 47
        }
      ]
    },
    {
      "cell_type": "code",
      "metadata": {
        "id": "CykIOmW49LHG",
        "colab_type": "code",
        "outputId": "8b46771f-0285-489d-c682-58188d2d2e77",
        "colab": {
          "base_uri": "https://localhost:8080/",
          "height": 119
        }
      },
      "source": [
        "df.isnull().sum()"
      ],
      "execution_count": 0,
      "outputs": [
        {
          "output_type": "execute_result",
          "data": {
            "text/plain": [
              "A          0\n",
              "B          0\n",
              "C          0\n",
              "D          0\n",
              "Spoiled    0\n",
              "dtype: int64"
            ]
          },
          "metadata": {
            "tags": []
          },
          "execution_count": 49
        }
      ]
    },
    {
      "cell_type": "code",
      "metadata": {
        "id": "bYlhlBW8-C_g",
        "colab_type": "code",
        "outputId": "243b0079-f7c1-490f-fba1-f5443bdd7760",
        "colab": {
          "base_uri": "https://localhost:8080/",
          "height": 764
        }
      },
      "source": [
        "sns.pairplot(df,hue=\"Spoiled\")"
      ],
      "execution_count": 0,
      "outputs": [
        {
          "output_type": "execute_result",
          "data": {
            "text/plain": [
              "<seaborn.axisgrid.PairGrid at 0x7f81687451d0>"
            ]
          },
          "metadata": {
            "tags": []
          },
          "execution_count": 69
        },
        {
          "output_type": "display_data",
          "data": {
            "image/png": "[encoded data removed]",
            "text/plain": [
              "<Figure size 764.75x720 with 20 Axes>"
            ]
          },
          "metadata": {
            "tags": []
          }
        }
      ]
    },
    {
      "cell_type": "code",
      "metadata": {
        "id": "rkdWHLjswtRn",
        "colab_type": "code",
        "outputId": "0e0e32f6-c5a6-43c3-97d2-aa6e9cfa885a",
        "colab": {
          "base_uri": "https://localhost:8080/",
          "height": 173
        }
      },
      "source": [
        "x=df.iloc[:,0:4]\n",
        "y=df.iloc[:,-1]\n",
        "x.corr()"
      ],
      "execution_count": 0,
      "outputs": [
        {
          "output_type": "execute_result",
          "data": {
            "text/html": [
              "<div>\n",
              "<style scoped>\n",
              "    .dataframe tbody tr th:only-of-type {\n",
              "        vertical-align: middle;\n",
              "    }\n",
              "\n",
              "    .dataframe tbody tr th {\n",
              "        vertical-align: top;\n",
              "    }\n",
              "\n",
              "    .dataframe thead th {\n",
              "        text-align: right;\n",
              "    }\n",
              "</style>\n",
              "<table border=\"1\" class=\"dataframe\">\n",
              "  <thead>\n",
              "    <tr style=\"text-align: right;\">\n",
              "      <th></th>\n",
              "      <th>A</th>\n",
              "      <th>B</th>\n",
              "      <th>C</th>\n",
              "      <th>D</th>\n",
              "    </tr>\n",
              "  </thead>\n",
              "  <tbody>\n",
              "    <tr>\n",
              "      <th>A</th>\n",
              "      <td>1.000000</td>\n",
              "      <td>0.007267</td>\n",
              "      <td>0.057588</td>\n",
              "      <td>-0.045834</td>\n",
              "    </tr>\n",
              "    <tr>\n",
              "      <th>B</th>\n",
              "      <td>0.007267</td>\n",
              "      <td>1.000000</td>\n",
              "      <td>-0.117222</td>\n",
              "      <td>-0.036436</td>\n",
              "    </tr>\n",
              "    <tr>\n",
              "      <th>C</th>\n",
              "      <td>0.057588</td>\n",
              "      <td>-0.117222</td>\n",
              "      <td>1.000000</td>\n",
              "      <td>-0.034477</td>\n",
              "    </tr>\n",
              "    <tr>\n",
              "      <th>D</th>\n",
              "      <td>-0.045834</td>\n",
              "      <td>-0.036436</td>\n",
              "      <td>-0.034477</td>\n",
              "      <td>1.000000</td>\n",
              "    </tr>\n",
              "  </tbody>\n",
              "</table>\n",
              "</div>"
            ],
            "text/plain": [
              "          A         B         C         D\n",
              "A  1.000000  0.007267  0.057588 -0.045834\n",
              "B  0.007267  1.000000 -0.117222 -0.036436\n",
              "C  0.057588 -0.117222  1.000000 -0.034477\n",
              "D -0.045834 -0.036436 -0.034477  1.000000"
            ]
          },
          "metadata": {
            "tags": []
          },
          "execution_count": 26
        }
      ]
    },
    {
      "cell_type": "code",
      "metadata": {
        "id": "ABCpet8VyHDc",
        "colab_type": "code",
        "outputId": "65fd407c-d672-477f-e546-bd5b00673eb2",
        "colab": {
          "base_uri": "https://localhost:8080/",
          "height": 265
        }
      },
      "source": [
        "fig=plt.hist(x,bins=30)"
      ],
      "execution_count": 0,
      "outputs": [
        {
          "output_type": "display_data",
          "data": {
            "image/png": "[encoded data removed]",
            "text/plain": [
              "<Figure size 432x288 with 1 Axes>"
            ]
          },
          "metadata": {
            "tags": []
          }
        }
      ]
    },
    {
      "cell_type": "code",
      "metadata": {
        "id": "oIx51Cfr2qML",
        "colab_type": "code",
        "outputId": "aacea090-574a-44d9-df20-d2333aef0a0b",
        "colab": {
          "base_uri": "https://localhost:8080/",
          "height": 258
        }
      },
      "source": [
        "# Fit a OLS Model On X freatures\n",
        "import statsmodels.api as sm\n",
        "x=sm.add_constant(x)\n",
        "x.head()"
      ],
      "execution_count": 0,
      "outputs": [
        {
          "output_type": "stream",
          "text": [
            "/usr/local/lib/python3.6/dist-packages/numpy/core/fromnumeric.py:2542: FutureWarning: Method .ptp is deprecated and will be removed in a future version. Use numpy.ptp instead.\n",
            "  return ptp(axis=axis, out=out, **kwargs)\n"
          ],
          "name": "stderr"
        },
        {
          "output_type": "execute_result",
          "data": {
            "text/html": [
              "<div>\n",
              "<style scoped>\n",
              "    .dataframe tbody tr th:only-of-type {\n",
              "        vertical-align: middle;\n",
              "    }\n",
              "\n",
              "    .dataframe tbody tr th {\n",
              "        vertical-align: top;\n",
              "    }\n",
              "\n",
              "    .dataframe thead th {\n",
              "        text-align: right;\n",
              "    }\n",
              "</style>\n",
              "<table border=\"1\" class=\"dataframe\">\n",
              "  <thead>\n",
              "    <tr style=\"text-align: right;\">\n",
              "      <th></th>\n",
              "      <th>const</th>\n",
              "      <th>A</th>\n",
              "      <th>B</th>\n",
              "      <th>C</th>\n",
              "      <th>D</th>\n",
              "    </tr>\n",
              "  </thead>\n",
              "  <tbody>\n",
              "    <tr>\n",
              "      <th>0</th>\n",
              "      <td>1.0</td>\n",
              "      <td>4</td>\n",
              "      <td>2</td>\n",
              "      <td>12</td>\n",
              "      <td>3</td>\n",
              "    </tr>\n",
              "    <tr>\n",
              "      <th>1</th>\n",
              "      <td>1.0</td>\n",
              "      <td>5</td>\n",
              "      <td>6</td>\n",
              "      <td>12</td>\n",
              "      <td>7</td>\n",
              "    </tr>\n",
              "    <tr>\n",
              "      <th>2</th>\n",
              "      <td>1.0</td>\n",
              "      <td>6</td>\n",
              "      <td>2</td>\n",
              "      <td>13</td>\n",
              "      <td>6</td>\n",
              "    </tr>\n",
              "    <tr>\n",
              "      <th>3</th>\n",
              "      <td>1.0</td>\n",
              "      <td>4</td>\n",
              "      <td>2</td>\n",
              "      <td>12</td>\n",
              "      <td>1</td>\n",
              "    </tr>\n",
              "    <tr>\n",
              "      <th>4</th>\n",
              "      <td>1.0</td>\n",
              "      <td>4</td>\n",
              "      <td>2</td>\n",
              "      <td>12</td>\n",
              "      <td>3</td>\n",
              "    </tr>\n",
              "  </tbody>\n",
              "</table>\n",
              "</div>"
            ],
            "text/plain": [
              "   const  A  B   C  D\n",
              "0    1.0  4  2  12  3\n",
              "1    1.0  5  6  12  7\n",
              "2    1.0  6  2  13  6\n",
              "3    1.0  4  2  12  1\n",
              "4    1.0  4  2  12  3"
            ]
          },
          "metadata": {
            "tags": []
          },
          "execution_count": 24
        }
      ]
    },
    {
      "cell_type": "code",
      "metadata": {
        "id": "oycY1K4G3pBB",
        "colab_type": "code",
        "outputId": "055d5ada-dfdb-4234-af10-fb7b2ab076c2",
        "colab": {
          "base_uri": "https://localhost:8080/",
          "height": 486
        }
      },
      "source": [
        "model = sm.OLS(y,x).fit()\n",
        "model.summary()"
      ],
      "execution_count": 0,
      "outputs": [
        {
          "output_type": "execute_result",
          "data": {
            "text/html": [
              "<table class=\"simpletable\">\n",
              "<caption>OLS Regression Results</caption>\n",
              "<tr>\n",
              "  <th>Dep. Variable:</th>         <td>Spoiled</td>     <th>  R-squared (uncentered):</th>      <td>   0.592</td>\n",
              "</tr>\n",
              "<tr>\n",
              "  <th>Model:</th>                   <td>OLS</td>       <th>  Adj. R-squared (uncentered):</th> <td>   0.589</td>\n",
              "</tr>\n",
              "<tr>\n",
              "  <th>Method:</th>             <td>Least Squares</td>  <th>  F-statistic:       </th>          <td>   176.3</td>\n",
              "</tr>\n",
              "<tr>\n",
              "  <th>Date:</th>             <td>Sun, 29 Mar 2020</td> <th>  Prob (F-statistic):</th>          <td>3.43e-93</td>\n",
              "</tr>\n",
              "<tr>\n",
              "  <th>Time:</th>                 <td>19:58:54</td>     <th>  Log-Likelihood:    </th>          <td> -168.68</td>\n",
              "</tr>\n",
              "<tr>\n",
              "  <th>No. Observations:</th>      <td>   490</td>      <th>  AIC:               </th>          <td>   345.4</td>\n",
              "</tr>\n",
              "<tr>\n",
              "  <th>Df Residuals:</th>          <td>   486</td>      <th>  BIC:               </th>          <td>   362.1</td>\n",
              "</tr>\n",
              "<tr>\n",
              "  <th>Df Model:</th>              <td>     4</td>      <th>                     </th>              <td> </td>   \n",
              "</tr>\n",
              "<tr>\n",
              "  <th>Covariance Type:</th>      <td>nonrobust</td>    <th>                     </th>              <td> </td>   \n",
              "</tr>\n",
              "</table>\n",
              "<table class=\"simpletable\">\n",
              "<tr>\n",
              "  <td></td>     <th>coef</th>     <th>std err</th>      <th>t</th>      <th>P>|t|</th>  <th>[0.025</th>    <th>0.975]</th>  \n",
              "</tr>\n",
              "<tr>\n",
              "  <th>A</th> <td>   -0.0228</td> <td>    0.005</td> <td>   -4.520</td> <td> 0.000</td> <td>   -0.033</td> <td>   -0.013</td>\n",
              "</tr>\n",
              "<tr>\n",
              "  <th>B</th> <td>   -0.0359</td> <td>    0.005</td> <td>   -7.272</td> <td> 0.000</td> <td>   -0.046</td> <td>   -0.026</td>\n",
              "</tr>\n",
              "<tr>\n",
              "  <th>C</th> <td>    0.0910</td> <td>    0.005</td> <td>   19.753</td> <td> 0.000</td> <td>    0.082</td> <td>    0.100</td>\n",
              "</tr>\n",
              "<tr>\n",
              "  <th>D</th> <td>   -0.0320</td> <td>    0.005</td> <td>   -6.372</td> <td> 0.000</td> <td>   -0.042</td> <td>   -0.022</td>\n",
              "</tr>\n",
              "</table>\n",
              "<table class=\"simpletable\">\n",
              "<tr>\n",
              "  <th>Omnibus:</th>       <td>38.043</td> <th>  Durbin-Watson:     </th> <td>   0.576</td>\n",
              "</tr>\n",
              "<tr>\n",
              "  <th>Prob(Omnibus):</th> <td> 0.000</td> <th>  Jarque-Bera (JB):  </th> <td>  31.297</td>\n",
              "</tr>\n",
              "<tr>\n",
              "  <th>Skew:</th>          <td> 0.533</td> <th>  Prob(JB):          </th> <td>1.60e-07</td>\n",
              "</tr>\n",
              "<tr>\n",
              "  <th>Kurtosis:</th>      <td> 2.371</td> <th>  Cond. No.          </th> <td>    5.42</td>\n",
              "</tr>\n",
              "</table><br/><br/>Warnings:<br/>[1] Standard Errors assume that the covariance matrix of the errors is correctly specified."
            ],
            "text/plain": [
              "<class 'statsmodels.iolib.summary.Summary'>\n",
              "\"\"\"\n",
              "                                 OLS Regression Results                                \n",
              "=======================================================================================\n",
              "Dep. Variable:                Spoiled   R-squared (uncentered):                   0.592\n",
              "Model:                            OLS   Adj. R-squared (uncentered):              0.589\n",
              "Method:                 Least Squares   F-statistic:                              176.3\n",
              "Date:                Sun, 29 Mar 2020   Prob (F-statistic):                    3.43e-93\n",
              "Time:                        19:58:54   Log-Likelihood:                         -168.68\n",
              "No. Observations:                 490   AIC:                                      345.4\n",
              "Df Residuals:                     486   BIC:                                      362.1\n",
              "Df Model:                           4                                                  \n",
              "Covariance Type:            nonrobust                                                  \n",
              "==============================================================================\n",
              "                 coef    std err          t      P>|t|      [0.025      0.975]\n",
              "------------------------------------------------------------------------------\n",
              "A             -0.0228      0.005     -4.520      0.000      -0.033      -0.013\n",
              "B             -0.0359      0.005     -7.272      0.000      -0.046      -0.026\n",
              "C              0.0910      0.005     19.753      0.000       0.082       0.100\n",
              "D             -0.0320      0.005     -6.372      0.000      -0.042      -0.022\n",
              "==============================================================================\n",
              "Omnibus:                       38.043   Durbin-Watson:                   0.576\n",
              "Prob(Omnibus):                  0.000   Jarque-Bera (JB):               31.297\n",
              "Skew:                           0.533   Prob(JB):                     1.60e-07\n",
              "Kurtosis:                       2.371   Cond. No.                         5.42\n",
              "==============================================================================\n",
              "\n",
              "Warnings:\n",
              "[1] Standard Errors assume that the covariance matrix of the errors is correctly specified.\n",
              "\"\"\""
            ]
          },
          "metadata": {
            "tags": []
          },
          "execution_count": 28
        }
      ]
    },
    {
      "cell_type": "markdown",
      "metadata": {
        "id": "NoKWz5vK6yZS",
        "colab_type": "text"
      },
      "source": [
        "AS we see Standard devation is low also P value also less than 0.5 So we Assume That There is No Correlation Between any Preservative"
      ]
    },
    {
      "cell_type": "code",
      "metadata": {
        "id": "jTmitaes6aHj",
        "colab_type": "code",
        "colab": {}
      },
      "source": [
        "# AS we see Standard devation is low also P value also less than 0.5"
      ],
      "execution_count": 0,
      "outputs": []
    },
    {
      "cell_type": "code",
      "metadata": {
        "id": "zXvp-eml-J0d",
        "colab_type": "code",
        "outputId": "9aa8f64d-db72-43a7-ecf8-b3dc2dcaef92",
        "colab": {
          "base_uri": "https://localhost:8080/",
          "height": 204
        }
      },
      "source": [
        "x.head()"
      ],
      "execution_count": 0,
      "outputs": [
        {
          "output_type": "execute_result",
          "data": {
            "text/html": [
              "<div>\n",
              "<style scoped>\n",
              "    .dataframe tbody tr th:only-of-type {\n",
              "        vertical-align: middle;\n",
              "    }\n",
              "\n",
              "    .dataframe tbody tr th {\n",
              "        vertical-align: top;\n",
              "    }\n",
              "\n",
              "    .dataframe thead th {\n",
              "        text-align: right;\n",
              "    }\n",
              "</style>\n",
              "<table border=\"1\" class=\"dataframe\">\n",
              "  <thead>\n",
              "    <tr style=\"text-align: right;\">\n",
              "      <th></th>\n",
              "      <th>A</th>\n",
              "      <th>B</th>\n",
              "      <th>C</th>\n",
              "      <th>D</th>\n",
              "    </tr>\n",
              "  </thead>\n",
              "  <tbody>\n",
              "    <tr>\n",
              "      <th>0</th>\n",
              "      <td>4</td>\n",
              "      <td>2</td>\n",
              "      <td>12</td>\n",
              "      <td>3</td>\n",
              "    </tr>\n",
              "    <tr>\n",
              "      <th>1</th>\n",
              "      <td>5</td>\n",
              "      <td>6</td>\n",
              "      <td>12</td>\n",
              "      <td>7</td>\n",
              "    </tr>\n",
              "    <tr>\n",
              "      <th>2</th>\n",
              "      <td>6</td>\n",
              "      <td>2</td>\n",
              "      <td>13</td>\n",
              "      <td>6</td>\n",
              "    </tr>\n",
              "    <tr>\n",
              "      <th>3</th>\n",
              "      <td>4</td>\n",
              "      <td>2</td>\n",
              "      <td>12</td>\n",
              "      <td>1</td>\n",
              "    </tr>\n",
              "    <tr>\n",
              "      <th>4</th>\n",
              "      <td>4</td>\n",
              "      <td>2</td>\n",
              "      <td>12</td>\n",
              "      <td>3</td>\n",
              "    </tr>\n",
              "  </tbody>\n",
              "</table>\n",
              "</div>"
            ],
            "text/plain": [
              "   A  B   C  D\n",
              "0  4  2  12  3\n",
              "1  5  6  12  7\n",
              "2  6  2  13  6\n",
              "3  4  2  12  1\n",
              "4  4  2  12  3"
            ]
          },
          "metadata": {
            "tags": []
          },
          "execution_count": 7
        }
      ]
    },
    {
      "cell_type": "code",
      "metadata": {
        "id": "a8IHs1Pt0xJb",
        "colab_type": "code",
        "outputId": "ce68273c-d9e2-478f-911c-598188a17bdc",
        "colab": {
          "base_uri": "https://localhost:8080/",
          "height": 136
        }
      },
      "source": [
        "# Detecting Outliers \n",
        "from scipy import stats\n",
        "import numpy as np\n",
        "z = np.abs(stats.zscore(df))\n",
        "print(z)"
      ],
      "execution_count": 0,
      "outputs": [
        {
          "output_type": "stream",
          "text": [
            "[[0.52049862 1.22912148 1.3993397  0.90450984 1.58113883]\n",
            " [0.18134393 0.17395254 1.3993397  0.49805289 1.58113883]\n",
            " [0.15781075 1.22912148 1.88632581 0.14741221 1.58113883]\n",
            " ...\n",
            " [1.53796266 0.87835297 0.54860477 0.90450984 0.63245553]\n",
            " [0.15781075 0.17395254 0.54860477 0.90450984 0.63245553]\n",
            " [1.53796266 1.22625806 1.03559088 0.55386916 0.63245553]]\n"
          ],
          "name": "stdout"
        }
      ]
    },
    {
      "cell_type": "code",
      "metadata": {
        "id": "sLIbdSEMAjRw",
        "colab_type": "code",
        "outputId": "695f5cff-5001-4b89-d192-83e1f57ce7f1",
        "colab": {
          "base_uri": "https://localhost:8080/",
          "height": 34
        }
      },
      "source": [
        "threshold = 3\n",
        "print(np.where(z > 3))\n",
        "# So there is No any Outliers are present in dataset"
      ],
      "execution_count": 0,
      "outputs": [
        {
          "output_type": "stream",
          "text": [
            "(array([], dtype=int64), array([], dtype=int64))\n"
          ],
          "name": "stdout"
        }
      ]
    },
    {
      "cell_type": "code",
      "metadata": {
        "id": "UFednJw_BwpJ",
        "colab_type": "code",
        "outputId": "a4c3964f-2ec0-4454-b546-52da013c1d28",
        "colab": {
          "base_uri": "https://localhost:8080/",
          "height": 303
        }
      },
      "source": [
        "sns.heatmap(df.corr(),annot=True)\n",
        "plt.figure(figsize=(20,20))"
      ],
      "execution_count": 0,
      "outputs": [
        {
          "output_type": "execute_result",
          "data": {
            "text/plain": [
              "<Figure size 1440x1440 with 0 Axes>"
            ]
          },
          "metadata": {
            "tags": []
          },
          "execution_count": 68
        },
        {
          "output_type": "display_data",
          "data": {
            "image/png": "[encoded data removed]",
            "text/plain": [
              "<Figure size 432x288 with 2 Axes>"
            ]
          },
          "metadata": {
            "tags": []
          }
        },
        {
          "output_type": "display_data",
          "data": {
            "text/plain": [
              "<Figure size 1440x1440 with 0 Axes>"
            ]
          },
          "metadata": {
            "tags": []
          }
        }
      ]
    },
    {
      "cell_type": "code",
      "metadata": {
        "id": "a09AqyFC6V_O",
        "colab_type": "code",
        "outputId": "236f1620-24f6-4165-b272-962de159b3b2",
        "colab": {
          "base_uri": "https://localhost:8080/",
          "height": 221
        }
      },
      "source": [
        "def abhi(df):\n",
        "  df1=pd.DataFrame(data=df)\n",
        "\n",
        "df1=df.fillna(df.mean())\n",
        "df1=df.dropna()\n",
        "x=df.iloc[:,0:4]\n",
        "y=df.iloc[:,-1]\n",
        "\n",
        "# Importing LabelEncoder and initializing it \n",
        "le=LabelEncoder()\n",
        "x_train,x_test,y_train,y_test=train_test_split(x,y,test_size=0.3,shuffle=True)\n",
        "\n",
        "# Iterating over all the common columns in train and test\n",
        "for col in x_test.columns.values:\n",
        "       # Encoding only categorical variables\n",
        "       if x_test[col].dtypes=='object':\n",
        "       # Using whole data to form an exhaustive list of levels\n",
        "           data=x_train[col].append(x_test[col])\n",
        "           le.fit(data.values)\n",
        "           x_train[col]=le.transform(x_train[col])\n",
        "           x_test[col]=le.transform(x_test[col])\n",
        "\n",
        "# Iterating over all the common columns in train and test\n",
        "for col in x_test.columns.values:\n",
        "       # Encoding only categorical variables\n",
        "       if x_test[col].dtypes=='object':\n",
        "       # Using whole data to form an exhaustive list of levels\n",
        "           data=x_train[col].append(x_test[col])\n",
        "           le.fit(data.values)\n",
        "           x_train[col]=le.transform(x_train[col])\n",
        "           x_test[col]=le.transform(x_test[col])\n",
        "\n",
        "# pipeline for Logistic Regression\n",
        "\n",
        "Abhi_lr=Pipeline([('Scalar1', StandardScaler()),\n",
        "                  ('PCA_1',PCA(n_components=2)),\n",
        "                  ('lr_classifier',LogisticRegression(random_state=0))\n",
        "                  ])\n",
        "\n",
        "# pipeline for KNN Classifier\n",
        "Abhi_kn=Pipeline([('Scalar1', StandardScaler()),\n",
        "                  ('lr_classifier',KNeighborsClassifier())\n",
        "                  ])\n",
        "\n",
        "# pipeline for Decision Tree Classifier\n",
        "Abhi_dt = Pipeline([('Scalar2', StandardScaler()),\n",
        "                  ('dt_classifier',DecisionTreeClassifier(random_state=0))\n",
        "                  ])\n",
        "# pipeline for Random Forest Classifier\n",
        "Abhi_rf = Pipeline([('Scalar3', StandardScaler()),\n",
        "                  ('rf_classifier',RandomForestClassifier(random_state=0,))\n",
        "                  ])\n",
        "# pipeline for XG Boost Classifier\n",
        "Abhi_xg = Pipeline([('Scalar3', StandardScaler()),\n",
        "                  ('rf_classifier',xgboost.XGBClassifier(random_state=0,))\n",
        "                  ])\n",
        "\n",
        "# making the List Of Piplines\n",
        "Abhi_Pipelines = [Abhi_lr,Abhi_kn,Abhi_dt,Abhi_rf,Abhi_xg]\n",
        "\n",
        "best_accuracy=0\n",
        "best_classifier=0\n",
        "best_pipeline=\"\"\n",
        "\n",
        "# Creating Dictionary of piplines\n",
        "pipe_dict = {0:\"Logistic Regression\",1:\"KNN Classifier\",2:\"Decision Tree\",3:\"Random Forest\",4:\"XG Boost\"}\n",
        "\n",
        "# Fitting Pipelines\n",
        "for pipe in Abhi_Pipelines:\n",
        "  pipe.fit(x_train,y_train)\n",
        "\n",
        "for i,model in enumerate(Abhi_Pipelines):\n",
        "  print(\"{} Train Accuracy: {}\".format(pipe_dict[i],model.score(x_train,y_train)))\n",
        "\n",
        "for i,model in enumerate(Abhi_Pipelines):\n",
        "  print(\"{} Test Accuracy: {}\".format(pipe_dict[i],model.score(x_test,y_test)))\n",
        "\n",
        "for i, model in enumerate(Abhi_Pipelines):\n",
        "  if model.score(x_test,y_test)>best_accuracy:\n",
        "    best_accuracy=model.score(x_test,y_test)\n",
        "    best_pipeline=model\n",
        "    best_classifier=i\n",
        "print(\"\\n Classifier with best accuracy:{}\".format(pipe_dict[best_classifier]))\n",
        "\n",
        "abhi(df)\n"
      ],
      "execution_count": 0,
      "outputs": [
        {
          "output_type": "stream",
          "text": [
            "Logistic Regression Train Accuracy: 0.8104956268221575\n",
            "KNN Classifier Train Accuracy: 0.9825072886297376\n",
            "Decision Tree Train Accuracy: 0.9941690962099126\n",
            "Random Forest Train Accuracy: 0.9941690962099126\n",
            "XG Boost Train Accuracy: 0.9883381924198251\n",
            "Logistic Regression Test Accuracy: 0.891156462585034\n",
            "KNN Classifier Test Accuracy: 0.9591836734693877\n",
            "Decision Tree Test Accuracy: 0.9591836734693877\n",
            "Random Forest Test Accuracy: 0.9795918367346939\n",
            "XG Boost Test Accuracy: 0.9659863945578231\n",
            "\n",
            " Classifier with best accuracy:Random Forest\n"
          ],
          "name": "stdout"
        }
      ]
    },
    {
      "cell_type": "markdown",
      "metadata": {
        "id": "7pUvYH8pEpPM",
        "colab_type": "text"
      },
      "source": [
        "**Classification Report Of RANDOM FOREST CLASSIFIER**"
      ]
    },
    {
      "cell_type": "code",
      "metadata": {
        "id": "vJk8GTenEiYd",
        "colab_type": "code",
        "colab": {}
      },
      "source": [
        "from sklearn.metrics import accuracy_score,precision_score,recall_score,confusion_matrix,precision_recall_curve,r2_score\n",
        "y_pred= Abhi_rf.predict(x_test)"
      ],
      "execution_count": 0,
      "outputs": []
    },
    {
      "cell_type": "code",
      "metadata": {
        "id": "TYjPjc-OFmu5",
        "colab_type": "code",
        "outputId": "450925bc-0db0-4a72-f0fc-10426218fa10",
        "colab": {
          "base_uri": "https://localhost:8080/",
          "height": 51
        }
      },
      "source": [
        "print(confusion_matrix(y_test,y_pred))"
      ],
      "execution_count": 0,
      "outputs": [
        {
          "output_type": "stream",
          "text": [
            "[[103   3]\n",
            " [  0  41]]\n"
          ],
          "name": "stdout"
        }
      ]
    },
    {
      "cell_type": "code",
      "metadata": {
        "id": "Ylg7RrNqW2c1",
        "colab_type": "code",
        "outputId": "09933d00-cae2-4194-dd8a-ec656a867c2e",
        "colab": {
          "base_uri": "https://localhost:8080/",
          "height": 170
        }
      },
      "source": [
        "from sklearn.metrics import classification_report\n",
        "print(classification_report(y_test,y_pred))"
      ],
      "execution_count": 0,
      "outputs": [
        {
          "output_type": "stream",
          "text": [
            "              precision    recall  f1-score   support\n",
            "\n",
            "           0       1.00      0.97      0.99       106\n",
            "           1       0.93      1.00      0.96        41\n",
            "\n",
            "    accuracy                           0.98       147\n",
            "   macro avg       0.97      0.99      0.98       147\n",
            "weighted avg       0.98      0.98      0.98       147\n",
            "\n"
          ],
          "name": "stdout"
        }
      ]
    },
    {
      "cell_type": "markdown",
      "metadata": {
        "id": "UXd7OBt8YhGX",
        "colab_type": "text"
      },
      "source": [
        "**Classification Report Of XGBOOST CLASSIFIER**"
      ]
    },
    {
      "cell_type": "code",
      "metadata": {
        "id": "yrq5sosJYekJ",
        "colab_type": "code",
        "outputId": "1e02bfec-8100-421f-aafb-55f7ed0f1167",
        "colab": {
          "base_uri": "https://localhost:8080/",
          "height": 51
        }
      },
      "source": [
        "y_pred= Abhi_xg.predict(x_test)\n",
        "print(confusion_matrix(y_test,y_pred))"
      ],
      "execution_count": 0,
      "outputs": [
        {
          "output_type": "stream",
          "text": [
            "[[103   3]\n",
            " [  0  41]]\n"
          ],
          "name": "stdout"
        }
      ]
    },
    {
      "cell_type": "code",
      "metadata": {
        "id": "bOFgv9E2Z4qk",
        "colab_type": "code",
        "outputId": "e44bdd2a-2650-4da4-dfe0-26bae90c0773",
        "colab": {
          "base_uri": "https://localhost:8080/",
          "height": 170
        }
      },
      "source": [
        "print(classification_report(y_test,y_pred))"
      ],
      "execution_count": 0,
      "outputs": [
        {
          "output_type": "stream",
          "text": [
            "              precision    recall  f1-score   support\n",
            "\n",
            "           0       1.00      0.97      0.99       106\n",
            "           1       0.93      1.00      0.96        41\n",
            "\n",
            "    accuracy                           0.98       147\n",
            "   macro avg       0.97      0.99      0.98       147\n",
            "weighted avg       0.98      0.98      0.98       147\n",
            "\n"
          ],
          "name": "stdout"
        }
      ]
    },
    {
      "cell_type": "markdown",
      "metadata": {
        "id": "euq7iTbhe9kx",
        "colab_type": "text"
      },
      "source": [
        "# **TPOT AUTUML Model**"
      ]
    },
    {
      "cell_type": "code",
      "metadata": {
        "id": "qulcl8DDfFSb",
        "colab_type": "code",
        "outputId": "09c50176-e52b-4817-81c5-d2b06c648281",
        "colab": {
          "base_uri": "https://localhost:8080/",
          "height": 564
        }
      },
      "source": [
        "!pip install tpot"
      ],
      "execution_count": 0,
      "outputs": [
        {
          "output_type": "stream",
          "text": [
            "Collecting tpot\n",
            "\u001b[?25l  Downloading https://files.pythonhosted.org/packages/ea/9f/813faf5ec7aa95f393a07603abd01fcb925b65ffe95441b25da029a69ff7/TPOT-0.11.1-py3-none-any.whl (75kB)\n",
            "\r\u001b[K     |████▎                           | 10kB 19.8MB/s eta 0:00:01\r\u001b[K     |████████▋                       | 20kB 3.0MB/s eta 0:00:01\r\u001b[K     |█████████████                   | 30kB 4.4MB/s eta 0:00:01\r\u001b[K     |█████████████████▎              | 40kB 2.9MB/s eta 0:00:01\r\u001b[K     |█████████████████████▋          | 51kB 3.5MB/s eta 0:00:01\r\u001b[K     |██████████████████████████      | 61kB 4.2MB/s eta 0:00:01\r\u001b[K     |██████████████████████████████▎ | 71kB 4.8MB/s eta 0:00:01\r\u001b[K     |████████████████████████████████| 81kB 3.8MB/s \n",
            "\u001b[?25hCollecting deap>=1.2\n",
            "\u001b[?25l  Downloading https://files.pythonhosted.org/packages/0a/eb/2bd0a32e3ce757fb26264765abbaedd6d4d3640d90219a513aeabd08ee2b/deap-1.3.1-cp36-cp36m-manylinux2010_x86_64.whl (157kB)\n",
            "\r\u001b[K     |██                              | 10kB 25.0MB/s eta 0:00:01\r\u001b[K     |████▏                           | 20kB 31.6MB/s eta 0:00:01\r\u001b[K     |██████▎                         | 30kB 37.1MB/s eta 0:00:01\r\u001b[K     |████████▍                       | 40kB 40.7MB/s eta 0:00:01\r\u001b[K     |██████████▍                     | 51kB 43.2MB/s eta 0:00:01\r\u001b[K     |████████████▌                   | 61kB 46.1MB/s eta 0:00:01\r\u001b[K     |██████████████▋                 | 71kB 10.3MB/s eta 0:00:01\r\u001b[K     |████████████████▊               | 81kB 11.4MB/s eta 0:00:01\r\u001b[K     |██████████████████▊             | 92kB 12.5MB/s eta 0:00:01\r\u001b[K     |████████████████████▉           | 102kB 13.7MB/s eta 0:00:01\r\u001b[K     |███████████████████████         | 112kB 13.7MB/s eta 0:00:01\r\u001b[K     |█████████████████████████       | 122kB 13.7MB/s eta 0:00:01\r\u001b[K     |███████████████████████████▏    | 133kB 13.7MB/s eta 0:00:01\r\u001b[K     |█████████████████████████████▏  | 143kB 13.7MB/s eta 0:00:01\r\u001b[K     |███████████████████████████████▎| 153kB 13.7MB/s eta 0:00:01\r\u001b[K     |████████████████████████████████| 163kB 13.7MB/s \n",
            "\u001b[?25hRequirement already satisfied: numpy>=1.16.3 in /usr/local/lib/python3.6/dist-packages (from tpot) (1.18.2)\n",
            "Requirement already satisfied: tqdm>=4.36.1 in /usr/local/lib/python3.6/dist-packages (from tpot) (4.38.0)\n",
            "Requirement already satisfied: pandas>=0.24.2 in /usr/local/lib/python3.6/dist-packages (from tpot) (0.25.3)\n",
            "Requirement already satisfied: scipy>=1.3.1 in /usr/local/lib/python3.6/dist-packages (from tpot) (1.4.1)\n",
            "Collecting stopit>=1.1.1\n",
            "  Downloading https://files.pythonhosted.org/packages/35/58/e8bb0b0fb05baf07bbac1450c447d753da65f9701f551dca79823ce15d50/stopit-1.1.2.tar.gz\n",
            "Collecting update-checker>=0.16\n",
            "  Downloading https://files.pythonhosted.org/packages/17/c9/ab11855af164d03be0ff4fddd4c46a5bd44799a9ecc1770e01a669c21168/update_checker-0.16-py2.py3-none-any.whl\n",
            "Requirement already satisfied: scikit-learn>=0.22.0 in /usr/local/lib/python3.6/dist-packages (from tpot) (0.22.2.post1)\n",
            "Requirement already satisfied: joblib>=0.13.2 in /usr/local/lib/python3.6/dist-packages (from tpot) (0.14.1)\n",
            "Requirement already satisfied: python-dateutil>=2.6.1 in /usr/local/lib/python3.6/dist-packages (from pandas>=0.24.2->tpot) (2.8.1)\n",
            "Requirement already satisfied: pytz>=2017.2 in /usr/local/lib/python3.6/dist-packages (from pandas>=0.24.2->tpot) (2018.9)\n",
            "Requirement already satisfied: requests>=2.3.0 in /usr/local/lib/python3.6/dist-packages (from update-checker>=0.16->tpot) (2.21.0)\n",
            "Requirement already satisfied: six>=1.5 in /usr/local/lib/python3.6/dist-packages (from python-dateutil>=2.6.1->pandas>=0.24.2->tpot) (1.12.0)\n",
            "Requirement already satisfied: idna<2.9,>=2.5 in /usr/local/lib/python3.6/dist-packages (from requests>=2.3.0->update-checker>=0.16->tpot) (2.8)\n",
            "Requirement already satisfied: certifi>=2017.4.17 in /usr/local/lib/python3.6/dist-packages (from requests>=2.3.0->update-checker>=0.16->tpot) (2019.11.28)\n",
            "Requirement already satisfied: chardet<3.1.0,>=3.0.2 in /usr/local/lib/python3.6/dist-packages (from requests>=2.3.0->update-checker>=0.16->tpot) (3.0.4)\n",
            "Requirement already satisfied: urllib3<1.25,>=1.21.1 in /usr/local/lib/python3.6/dist-packages (from requests>=2.3.0->update-checker>=0.16->tpot) (1.24.3)\n",
            "Building wheels for collected packages: stopit\n",
            "  Building wheel for stopit (setup.py) ... \u001b[?25l\u001b[?25hdone\n",
            "  Created wheel for stopit: filename=stopit-1.1.2-cp36-none-any.whl size=11956 sha256=094f8ed3cb360c1113ede18a718049e79efd2a69a7c544fda266844998754c47\n",
            "  Stored in directory: /root/.cache/pip/wheels/3c/85/2b/2580190404636bfc63e8de3dff629c03bb795021e1983a6cc7\n",
            "Successfully built stopit\n",
            "Installing collected packages: deap, stopit, update-checker, tpot\n",
            "Successfully installed deap-1.3.1 stopit-1.1.2 tpot-0.11.1 update-checker-0.16\n"
          ],
          "name": "stdout"
        }
      ]
    },
    {
      "cell_type": "code",
      "metadata": {
        "id": "GRKyuNU6f8D3",
        "colab_type": "code",
        "colab": {}
      },
      "source": [
        "from tpot import TPOTClassifier"
      ],
      "execution_count": 0,
      "outputs": []
    },
    {
      "cell_type": "code",
      "metadata": {
        "id": "qXWIffLxgFBW",
        "colab_type": "code",
        "outputId": "166af37c-1513-40fd-9cb9-f83d5f9fb840",
        "colab": {
          "base_uri": "https://localhost:8080/",
          "height": 34
        }
      },
      "source": [
        "\n",
        "X_train, X_test, y_train, y_test = train_test_split(x, y, train_size=0.75, test_size=0.25)\n",
        "X_train.shape, X_test.shape, y_train.shape, y_test.shape"
      ],
      "execution_count": 0,
      "outputs": [
        {
          "output_type": "execute_result",
          "data": {
            "text/plain": [
              "((367, 4), (123, 4), (367,), (123,))"
            ]
          },
          "metadata": {
            "tags": []
          },
          "execution_count": 126
        }
      ]
    },
    {
      "cell_type": "code",
      "metadata": {
        "id": "rWnVGE-eggH8",
        "colab_type": "code",
        "outputId": "64320255-bb34-44dd-8e75-d93fa625457b",
        "colab": {
          "base_uri": "https://localhost:8080/",
          "height": 423,
          "referenced_widgets": [
            "f3238ba894144b4690f7d1e50291d6b3",
            "ea8ab2c9ce144d7a9f0febb7871830e0",
            "c9cea17516dc44fd9fe3416f61382cd2",
            "48cc2a9d223848c7acb71d331bff6bf8",
            "2210bc210e9848f9b2ba29ba2f3828aa",
            "ae977b46292149b89ddd08eefa7fad36",
            "d6ae21a93ca943f1862d0633cb6e253c",
            "98dcb289d3cb42b297f57d4eec770245"
          ]
        }
      },
      "source": [
        "tpot = TPOTClassifier(verbosity=2, max_time_mins=10)\n",
        "tpot.fit(X_train, y_train)\n",
        "print(tpot.score(X_test, y_test))"
      ],
      "execution_count": 0,
      "outputs": [
        {
          "output_type": "display_data",
          "data": {
            "application/vnd.jupyter.widget-view+json": {
              "model_id": "f3238ba894144b4690f7d1e50291d6b3",
              "version_minor": 0,
              "version_major": 2
            },
            "text/plain": [
              "HBox(children=(IntProgress(value=0, description='Optimization Progress', style=ProgressStyle(description_width…"
            ]
          },
          "metadata": {
            "tags": []
          }
        },
        {
          "output_type": "stream",
          "text": [
            "Generation 1 - Current best internal CV score: 0.9808959644576083\n",
            "Generation 2 - Current best internal CV score: 0.9808959644576083\n",
            "Generation 3 - Current best internal CV score: 0.9808959644576083\n",
            "Generation 4 - Current best internal CV score: 0.9808959644576083\n",
            "Generation 5 - Current best internal CV score: 0.9808959644576083\n",
            "Generation 6 - Current best internal CV score: 0.9808959644576083\n",
            "Generation 7 - Current best internal CV score: 0.9808959644576083\n",
            "Generation 8 - Current best internal CV score: 0.9808959644576083\n",
            "Generation 9 - Current best internal CV score: 0.983598667160311\n",
            "Generation 10 - Current best internal CV score: 0.983598667160311\n",
            "Generation 11 - Current best internal CV score: 0.983598667160311\n",
            "Generation 12 - Current best internal CV score: 0.983598667160311\n",
            "\n",
            "10.06 minutes have elapsed. TPOT will close down.\n",
            "TPOT closed during evaluation in one generation.\n",
            "WARNING: TPOT may not provide a good pipeline if TPOT is stopped/interrupted in a early generation.\n",
            "\n",
            "\n",
            "TPOT closed prematurely. Will use the current best pipeline.\n",
            "\n",
            "Best pipeline: XGBClassifier(input_matrix, learning_rate=1.0, max_depth=7, min_child_weight=9, n_estimators=100, nthread=1, subsample=0.5)\n",
            "0.983739837398374\n"
          ],
          "name": "stdout"
        }
      ]
    },
    {
      "cell_type": "code",
      "metadata": {
        "id": "G-Vcr-L8hl_4",
        "colab_type": "code",
        "outputId": "13862c91-c152-4ff3-d5e8-cef9712a4fe1",
        "colab": {
          "base_uri": "https://localhost:8080/",
          "height": 238
        }
      },
      "source": [
        "tpot.fitted_pipeline_"
      ],
      "execution_count": 0,
      "outputs": [
        {
          "output_type": "execute_result",
          "data": {
            "text/plain": [
              "Pipeline(memory=None,\n",
              "         steps=[('xgbclassifier',\n",
              "                 XGBClassifier(base_score=0.5, booster='gbtree',\n",
              "                               colsample_bylevel=1, colsample_bynode=1,\n",
              "                               colsample_bytree=1, gamma=0, learning_rate=1.0,\n",
              "                               max_delta_step=0, max_depth=7,\n",
              "                               min_child_weight=9, missing=None,\n",
              "                               n_estimators=100, n_jobs=1, nthread=1,\n",
              "                               objective='binary:logistic', random_state=0,\n",
              "                               reg_alpha=0, reg_lambda=1, scale_pos_weight=1,\n",
              "                               seed=None, silent=None, subsample=0.5,\n",
              "                               verbosity=1))],\n",
              "         verbose=False)"
            ]
          },
          "metadata": {
            "tags": []
          },
          "execution_count": 128
        }
      ]
    },
    {
      "cell_type": "code",
      "metadata": {
        "id": "gkodM_8lirBH",
        "colab_type": "code",
        "outputId": "9436db37-a627-40d4-de0d-4233eef3b22f",
        "colab": {
          "base_uri": "https://localhost:8080/",
          "height": 34
        }
      },
      "source": [
        "print(tpot.score(X_test, y_test))"
      ],
      "execution_count": 0,
      "outputs": [
        {
          "output_type": "stream",
          "text": [
            "0.983739837398374\n"
          ],
          "name": "stdout"
        }
      ]
    },
    {
      "cell_type": "markdown",
      "metadata": {
        "id": "sb8ACG-CjUsw",
        "colab_type": "text"
      },
      "source": [
        "# AS WE Seen TPOT AUTOML gives Best Accuracy Compare To Above Randam Forest Classifier"
      ]
    },
    {
      "cell_type": "code",
      "metadata": {
        "id": "5U4CYeTIjHZs",
        "colab_type": "code",
        "colab": {}
      },
      "source": [
        ""
      ],
      "execution_count": 0,
      "outputs": []
    }
  ]
}